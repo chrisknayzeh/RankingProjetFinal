{
 "cells": [
  {
   "cell_type": "markdown",
   "metadata": {},
   "source": [
    "# Libraries"
   ]
  },
  {
   "cell_type": "code",
   "execution_count": 10,
   "metadata": {},
   "outputs": [],
   "source": [
    "import numpy as np\n",
    "import time"
   ]
  },
  {
   "cell_type": "markdown",
   "metadata": {},
   "source": [
    "# Useful Functions "
   ]
  },
  {
   "cell_type": "markdown",
   "metadata": {},
   "source": [
    "reading the txt matrix"
   ]
  },
  {
   "cell_type": "code",
   "execution_count": 11,
   "metadata": {},
   "outputs": [],
   "source": [
    "#Function that reads a text file and returns the lines in a list, the number of rows and columns (in this case, row = col)\n",
    "\n",
    "def readText(file):\n",
    "  text = open(file)\n",
    "  lines = text.readlines()\n",
    "  row = int(lines[0])\n",
    "  col = int(lines[0])\n",
    "\n",
    "  return lines, row, col"
   ]
  },
  {
   "cell_type": "markdown",
   "metadata": {},
   "source": [
    "printing the txt matrix"
   ]
  },
  {
   "cell_type": "code",
   "execution_count": 12,
   "metadata": {},
   "outputs": [],
   "source": [
    "def printMat(matrix):\n",
    "  rows = []\n",
    "  for i in range(row):\n",
    "    rows.append(matrix[i])\n",
    "  \n",
    "  for i in range(row):\n",
    "    print(rows[i] , \"\\n\")"
   ]
  },
  {
   "cell_type": "markdown",
   "metadata": {},
   "source": [
    "to find vector f in the graph"
   ]
  },
  {
   "cell_type": "code",
   "execution_count": 13,
   "metadata": {},
   "outputs": [],
   "source": [
    "def findF(lines):\n",
    "  N = len(lines)\n",
    "  f = list()\n",
    "  for i in range(N):\n",
    "    if (lines[i][2] == 0):\n",
    "      f.append(1)\n",
    "    else:\n",
    "      f.append(0)\n",
    "  return f"
   ]
  },
  {
   "cell_type": "markdown",
   "metadata": {},
   "source": [
    "Removing spaces and new lines from the txt matrix lines"
   ]
  },
  {
   "cell_type": "code",
   "execution_count": 14,
   "metadata": {},
   "outputs": [],
   "source": [
    "#Function to Remove spaces and new lines from linesz\n",
    "\n",
    "def rmRed(lines):\n",
    "  newlines = list(lines[i] for i in range(2,len(lines)))\n",
    "  #Removing \\n from the strings\n",
    "  for i in range (2,len(lines)):\n",
    "    lines[i]=lines[i].replace('\\n',\"\")\n",
    "  #Using the \" \" as a delimiter for new elements. Each number will become an element on its own, and newlines will become a list of lists\n",
    "  for i in range(len(newlines)):\n",
    "    newlines[i] = newlines[i].split(\" \")\n",
    "  return list(newlines)"
   ]
  },
  {
   "cell_type": "markdown",
   "metadata": {},
   "source": [
    "converting string components to numeric"
   ]
  },
  {
   "cell_type": "code",
   "execution_count": 15,
   "metadata": {},
   "outputs": [],
   "source": [
    "def convertStrNum(newlines):\n",
    "  for i in range(len(newlines)):\n",
    "    for j in range(len(newlines[i])):\n",
    "      if(j<3 or j%2==0): #since we start indexing at 0, and we are interested in the values starting the third element, any values before the third element will become int.\n",
    "                       #Also if the value is on an even index (0, 2, 4, 8 etc.) it will also be an int since it's either the row number, number of edges or a vertex number.\n",
    "                       newlines[i][j] = int(newlines[i][j])\n",
    "      else:\n",
    "        newlines[i][j] = float(newlines[i][j]) #Otherwise, the rest of the values are the probabilities (or weights)\n",
    "  return newlines"
   ]
  },
  {
   "cell_type": "markdown",
   "metadata": {},
   "source": [
    "## WEB Matrix in the making"
   ]
  },
  {
   "cell_type": "markdown",
   "metadata": {},
   "source": [
    "data loading"
   ]
  },
  {
   "cell_type": "code",
   "execution_count": 26,
   "metadata": {},
   "outputs": [],
   "source": [
    "directory = 'C:/Users/Admin/Desktop/Master/UVSQ/Methodes de Ranking/PROJET/DATA/WebINDIA.txt'\n",
    "\n",
    "lines, rows, cols = readText(directory)\n"
   ]
  },
  {
   "cell_type": "markdown",
   "metadata": {},
   "source": [
    "data cleaning"
   ]
  },
  {
   "cell_type": "code",
   "execution_count": 27,
   "metadata": {},
   "outputs": [],
   "source": [
    "lines = rmRed(lines)\n",
    "\n",
    "#weird thing with the format of the data, using pop to remove blank elements\n",
    "for line in lines:\n",
    "  line.pop()\n",
    "\n",
    "lines = convertStrNum(lines)"
   ]
  },
  {
   "cell_type": "code",
   "execution_count": null,
   "metadata": {},
   "outputs": [],
   "source": [
    "printMat(newlines)"
   ]
  },
  {
   "cell_type": "code",
   "execution_count": null,
   "metadata": {},
   "outputs": [],
   "source": [
    "\n",
    "matrix = [[0 for i in range(row)] for j in range(col)]\n",
    "for i in range(row):\n",
    "  j=2\n",
    "  while j < len(newlines[i]):\n",
    "    matrix[i][newlines[i][j]-1] = newlines[i][j+1]\n",
    "    j+=2\n",
    "#printMat(matrix)"
   ]
  },
  {
   "cell_type": "markdown",
   "metadata": {},
   "source": [
    "## Matrix Product"
   ]
  },
  {
   "cell_type": "code",
   "execution_count": null,
   "metadata": {},
   "outputs": [],
   "source": []
  }
 ],
 "metadata": {
  "kernelspec": {
   "display_name": "Python 3",
   "language": "python",
   "name": "python3"
  },
  "language_info": {
   "codemirror_mode": {
    "name": "ipython",
    "version": 3
   },
   "file_extension": ".py",
   "mimetype": "text/x-python",
   "name": "python",
   "nbconvert_exporter": "python",
   "pygments_lexer": "ipython3",
   "version": "3.8.8"
  }
 },
 "nbformat": 4,
 "nbformat_minor": 2
}
