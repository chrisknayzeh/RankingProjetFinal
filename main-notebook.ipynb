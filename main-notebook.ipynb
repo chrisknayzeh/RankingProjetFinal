{
 "cells": [
  {
   "cell_type": "markdown",
   "metadata": {},
   "source": [
    "# Libraries"
   ]
  },
  {
   "cell_type": "code",
   "execution_count": 1,
   "metadata": {},
   "outputs": [],
   "source": [
    "import numpy as np\n",
    "import time"
   ]
  },
  {
   "cell_type": "markdown",
   "metadata": {},
   "source": [
    "# User-Created Functions "
   ]
  },
  {
   "cell_type": "code",
   "execution_count": 3,
   "metadata": {},
   "outputs": [],
   "source": [
    "#Function that reads a text file and returns the lines in a list, the number of rows and columns (in this case, row = col)\n",
    "\n",
    "def readText(file):\n",
    "  text = open(file)\n",
    "  lines = text.readlines()\n",
    "  row = int(lines[0])\n",
    "  col = int(lines[0])\n",
    "\n",
    "  return lines, row, col"
   ]
  },
  {
   "cell_type": "code",
   "execution_count": 4,
   "metadata": {},
   "outputs": [],
   "source": [
    "#Function to print a matrix in a nice way (literally for convenience)\n",
    "\n",
    "def printMat(matrix):\n",
    "  rows = []\n",
    "  for i in range(row):\n",
    "    rows.append(matrix[i])\n",
    "  \n",
    "  for i in range(row):\n",
    "    print(rows[i] , \"\\n\")"
   ]
  },
  {
   "cell_type": "code",
   "execution_count": 5,
   "metadata": {},
   "outputs": [],
   "source": [
    "#Function to find vector f for a graph\n",
    "def findF(lines):\n",
    "  N = len(lines)\n",
    "  f = list()\n",
    "  for i in range(N):\n",
    "    if (lines[i][2] == 0):\n",
    "      f.append(1)\n",
    "    else:\n",
    "      f.append(0)\n",
    "  return f"
   ]
  },
  {
   "cell_type": "code",
   "execution_count": 6,
   "metadata": {},
   "outputs": [],
   "source": [
    "#Function to Remove spaces and new lines from lines\n",
    "\n",
    "def rmRed(lines):\n",
    "  newlines = list(lines[i] for i in range(2,len(lines)))\n",
    "  #Removing \\n from the strings\n",
    "  for i in range (2,len(lines)):\n",
    "    lines[i]=lines[i].replace('\\n',\"\")\n",
    "  #Using the \" \" as a delimiter for new elements. Each number will become an element on its own, and newlines will become a list of lists\n",
    "  for i in range(len(newlines)):\n",
    "    newlines[i] = newlines[i].split(\" \")\n",
    "  return list(newlines)"
   ]
  },
  {
   "cell_type": "code",
   "execution_count": 7,
   "metadata": {},
   "outputs": [],
   "source": [
    "#Function to convert string to numeric\n",
    "\n",
    "def convertStrNum(newlines):\n",
    "  for i in range(len(newlines)):\n",
    "    for j in range(len(newlines[i])):\n",
    "      if(j<3 or j%2==0): #since we start indexing at 0, and we are interested in the values starting the third element, any values before the third element will become int.\n",
    "                       #Also if the value is on an even index (0, 2, 4, 8 etc.) it will also be an int since it's either the row number, number of edges or a vertex number.\n",
    "                       newlines[i][j] = int(newlines[i][j])\n",
    "      else:\n",
    "        newlines[i][j] = float(newlines[i][j]) #Otherwise, the rest of the values are the probabilities (or weights)\n",
    "  return newlines"
   ]
  },
  {
   "cell_type": "code",
   "execution_count": null,
   "metadata": {},
   "outputs": [],
   "source": []
  }
 ],
 "metadata": {
  "kernelspec": {
   "display_name": "Python 3",
   "language": "python",
   "name": "python3"
  },
  "language_info": {
   "codemirror_mode": {
    "name": "ipython",
    "version": 3
   },
   "file_extension": ".py",
   "mimetype": "text/x-python",
   "name": "python",
   "nbconvert_exporter": "python",
   "pygments_lexer": "ipython3",
   "version": "3.7.1"
  }
 },
 "nbformat": 4,
 "nbformat_minor": 2
}
